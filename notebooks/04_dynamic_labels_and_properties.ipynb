{
 "cells": [
  {
   "cell_type": "code",
   "execution_count": 1,
   "metadata": {},
   "outputs": [
    {
     "name": "stdout",
     "output_type": "stream",
     "text": [
      "WARNING: Missing OA_CONFIG environment variable\n"
     ]
    }
   ],
   "source": [
    "from datetime import date, datetime, time\n",
    "from typing import Optional, List\n",
    "from decimal import Decimal\n",
    "from omop_alchemy import oa_config\n",
    "import sqlalchemy as sa\n",
    "import sqlalchemy.orm as so\n",
    "\n",
    "# this notebook contains a demonstration for how to dynamically create the \n",
    "# repetitive columns and relationships required to support the multiple \n",
    "# links between the Concept table and all other CDM tables\n",
    "\n",
    "# no solution yet on how to abstract away the link further via hybrid property\n",
    "# if we want to add the mapping attributes dynamically, but the overhead between \n",
    "# selecting person.gender_concept.concept_name vs. person.gender_label seems \n",
    "# minimal compared to the large amounts of code that can be simplified away\n",
    "# from sqlalchemy.ext.hybrid import hybrid_property\n",
    "\n",
    "\n",
    "class Concept_Links():\n",
    "    # class property of form {label: optional, label2: optional}\n",
    "    # that will be expanded into the mapped column label_concept_id as \n",
    "    # foreign key to concept table and the associated label_concept relationship\n",
    "    labels = {}\n",
    "\n",
    "    @classmethod\n",
    "    def add_concepts(cls):\n",
    "        for label, opt in cls.labels.items():\n",
    "            so.add_mapped_attribute(cls, f'{label}_concept_id', so.mapped_column(sa.Integer, sa.ForeignKey('concept.concept_id'), nullable=opt, default=0))\n",
    "            so.add_mapped_attribute(cls, f'{label}_concept', so.relationship(\"Concept\", primaryjoin=f\"{cls.__tablename__}.c.{label}_concept_id==Concept.concept_id\"))"
   ]
  },
  {
   "cell_type": "code",
   "execution_count": 2,
   "metadata": {},
   "outputs": [],
   "source": [
    "\n",
    "\n",
    "from omop_alchemy.db import Base\n",
    "\n",
    "class Person_Dynamic(Base, Concept_Links):\n",
    "    __tablename__ = 'person_dynamic'\n",
    "\n",
    "    # now we can just provide a list of linked concepts and whether or not they are required\n",
    "    # and the mapped columns will be created - main reason to do this is if we decide to change\n",
    "    # the way we map these down the line, it only needs to be done in one place\n",
    "    labels = {'gender': False, 'ethnicity': False, 'race': False, 'gender_source': False, 'ethnicity_source': False, 'race_source': False}\n",
    "\n",
    "    person_id: so.Mapped[int] = so.mapped_column(primary_key=True, autoincrement=True)\n",
    "    year_of_birth: so.Mapped[Optional[int]] = so.mapped_column(sa.Integer)\n",
    "    month_of_birth: so.Mapped[Optional[int]] = so.mapped_column(sa.Integer)\n",
    "    day_of_birth: so.Mapped[Optional[int]] = so.mapped_column(sa.Integer)\n",
    "    birth_datetime: so.Mapped[Optional[datetime]] = so.mapped_column(sa.DateTime)\n",
    "    death_datetime: so.Mapped[Optional[datetime]] = so.mapped_column(sa.DateTime)\n",
    "\n",
    "    def __repr__(self):\n",
    "        return f'Person: person_id = {self.person_id}'\n",
    "    \n",
    "    def get_approximate_dob(self):\n",
    "        if self.year_of_birth is None:\n",
    "            return None\n",
    "        day = self.day_of_birth or 1\n",
    "        month = self.month_of_birth or 1\n",
    "        return datetime(self.year_of_birth, month, day)\n",
    "\n",
    "    def age_calc(self, age_at, selected_dob):\n",
    "        if selected_dob is None:\n",
    "            return {}\n",
    "        age = (age_at - selected_dob).days\n",
    "        years = age // 365\n",
    "        days = age % 365\n",
    "        return {'age_total': age, 'age_years': years, 'age_days': days}\n",
    "\n",
    "    @property\n",
    "    def age(self, age_at=None):\n",
    "        \n",
    "        if age_at is None:\n",
    "            age_at = datetime.now()\n",
    "\n",
    "        if self.death_datetime is not None:\n",
    "            age_at = min(age_at, self.death_datetime)\n",
    "\n",
    "        selected_dob = self.birth_datetime or self.get_approximate_dob()\n",
    "\n",
    "        return self.age_calc(age_at, selected_dob)"
   ]
  },
  {
   "cell_type": "code",
   "execution_count": 3,
   "metadata": {},
   "outputs": [],
   "source": [
    "# trade-off is having to make sure we call the class function in the right spot\n",
    "\n",
    "Person_Dynamic.add_concepts()"
   ]
  },
  {
   "cell_type": "code",
   "execution_count": 5,
   "metadata": {},
   "outputs": [],
   "source": [
    "from omop_alchemy.db import Base\n",
    "from omop_alchemy.helpers.create_db import create_db \n",
    "\n",
    "\n",
    "create_db(Base, oa_config.engine)"
   ]
  },
  {
   "cell_type": "code",
   "execution_count": 7,
   "metadata": {},
   "outputs": [],
   "source": [
    "# some not so great demo person objects just for the sake of demonstration of dynamic \n",
    "# column generation as well as properties and their use in abstracting away calculations\n",
    "# with multiple columns or column transformations, e.g. age, which can come from one of a \n",
    "# few different fields, and should stop counting at time of death\n",
    "\n",
    "def populate_clinical_demo_data():\n",
    "    with so.Session(oa_config.engine) as sess:\n",
    "\n",
    "        gender_concepts = [(8532, 'F', 'FEMALE'), (8507, 'M', 'MALE')]\n",
    "        ages = [{'year_of_birth': 1950}, \n",
    "                {'year_of_birth': 1970, 'day_of_birth': 12, 'month_of_birth': 3},\n",
    "                {'birth_datetime': datetime(1990, 4, 2)}, \n",
    "                {'birth_datetime': datetime.now()},\n",
    "                {'birth_datetime': datetime(2000, 4, 2), 'death_datetime': datetime(2008, 4, 2)}]\n",
    "\n",
    "        for n in range(15, 20):\n",
    "            p = Person_Dynamic(person_id=n, \n",
    "                               gender_concept_id=gender_concepts[n%2][0],\n",
    "                               ethnicity_concept_id=0,\n",
    "                               race_concept_id=0,\n",
    "                               **ages[n%5])\n",
    "            sess.add(p)\n",
    "        sess.commit()"
   ]
  },
  {
   "cell_type": "code",
   "execution_count": 11,
   "metadata": {},
   "outputs": [],
   "source": [
    "populate_clinical_demo_data()"
   ]
  },
  {
   "cell_type": "code",
   "execution_count": 12,
   "metadata": {},
   "outputs": [],
   "source": [
    "with so.Session(oa_config.engine) as sess:\n",
    "    people = sess.query(Person_Dynamic)"
   ]
  },
  {
   "cell_type": "code",
   "execution_count": 13,
   "metadata": {},
   "outputs": [
    {
     "data": {
      "text/plain": [
       "[{'age_total': 27068, 'age_years': 74, 'age_days': 58},\n",
       " {'age_total': 19693, 'age_years': 53, 'age_days': 348},\n",
       " {'age_total': 12367, 'age_years': 33, 'age_days': 322},\n",
       " {'age_total': 0, 'age_years': 0, 'age_days': 0},\n",
       " {'age_total': 2922, 'age_years': 8, 'age_days': 2}]"
      ]
     },
     "execution_count": 13,
     "metadata": {},
     "output_type": "execute_result"
    }
   ],
   "source": [
    "[p.age for p in people]"
   ]
  },
  {
   "cell_type": "code",
   "execution_count": 14,
   "metadata": {},
   "outputs": [
    {
     "data": {
      "text/plain": [
       "[(8507, <Concept 8507 - M (MALE)>),\n",
       " (8532, <Concept 8532 - F (FEMALE)>),\n",
       " (8507, <Concept 8507 - M (MALE)>),\n",
       " (8532, <Concept 8532 - F (FEMALE)>),\n",
       " (8507, <Concept 8507 - M (MALE)>)]"
      ]
     },
     "execution_count": 14,
     "metadata": {},
     "output_type": "execute_result"
    }
   ],
   "source": [
    "# this will only work if you have also loaded the related concepts required to reference\n",
    "[(p.gender_concept_id, p.gender_concept) for p in people]"
   ]
  },
  {
   "cell_type": "code",
   "execution_count": null,
   "metadata": {},
   "outputs": [],
   "source": []
  }
 ],
 "metadata": {
  "kernelspec": {
   "display_name": ".venv",
   "language": "python",
   "name": "python3"
  },
  "language_info": {
   "codemirror_mode": {
    "name": "ipython",
    "version": 3
   },
   "file_extension": ".py",
   "mimetype": "text/x-python",
   "name": "python",
   "nbconvert_exporter": "python",
   "pygments_lexer": "ipython3",
   "version": "3.11.0"
  }
 },
 "nbformat": 4,
 "nbformat_minor": 2
}
