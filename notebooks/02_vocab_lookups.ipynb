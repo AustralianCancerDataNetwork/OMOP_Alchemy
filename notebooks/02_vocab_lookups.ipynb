{
 "cells": [
  {
   "cell_type": "code",
   "execution_count": 3,
   "metadata": {},
   "outputs": [],
   "source": [
    "from collections import defaultdict\n",
    "import sqlalchemy as sa\n",
    "import sqlalchemy.orm as so\n",
    "import sqlalchemy.sql.sqltypes as sss\n",
    "import sqlalchemy.sql.expression as exp\n",
    "import re\n",
    "from omop_alchemy.conventions.vocab_lookups import tnm_lookup, mets_lookup, grading_lookup, VocabLookup"
   ]
  },
  {
   "cell_type": "code",
   "execution_count": 4,
   "metadata": {},
   "outputs": [
    {
     "data": {
      "text/plain": [
       "(1633374, 1633268, 1633303, 1635412)"
      ]
     },
     "execution_count": 4,
     "metadata": {},
     "output_type": "execute_result"
    }
   ],
   "source": [
    "tnm_lookup.lookup('ajcc/uicc 8th pathological t1a category'), tnm_lookup.lookup('AJCC/UICC 7th Pathological t1a Category'), tnm_lookup.lookup('AJCC/UICC pathological Stage 3A1'), tnm_lookup.lookup('AJCC/UICC Stage 3A1')"
   ]
  },
  {
   "cell_type": "code",
   "execution_count": 5,
   "metadata": {},
   "outputs": [],
   "source": [
    "measurements = VocabLookup(domain='Measurement', concept_class='Extension/Invasion')"
   ]
  },
  {
   "cell_type": "code",
   "execution_count": 6,
   "metadata": {},
   "outputs": [
    {
     "data": {
      "text/plain": [
       "734306"
      ]
     },
     "execution_count": 6,
     "metadata": {},
     "output_type": "execute_result"
    }
   ],
   "source": [
    "measurements.lookup('initial diagnosis')"
   ]
  },
  {
   "cell_type": "code",
   "execution_count": 7,
   "metadata": {},
   "outputs": [
    {
     "data": {
      "text/plain": [
       "defaultdict(<bound method VocabLookup.return_unknown of <omop_alchemy.conventions.vocab_lookups.VocabLookup object at 0x10c0cfc10>>,\n",
       "            {'gleason tertiary pattern grade 3': 1633295,\n",
       "             'gleason-tertiary_pattern_grade-3': 1633295,\n",
       "             'gleason primary pattern grade 4': 1633348,\n",
       "             'gleason-primary_pattern_grade-4': 1633348,\n",
       "             'gleason secondary pattern grade 4': 1633367,\n",
       "             'gleason-secondary_pattern_grade-4': 1633367,\n",
       "             'gleason grade group 1': 1633550,\n",
       "             'gleason-grade_group-1': 1633550,\n",
       "             'gleason primary pattern grade 3': 1633643,\n",
       "             'gleason-primary_pattern_grade-3': 1633643,\n",
       "             'grade 3 tumor': 1633749,\n",
       "             'grade-3': 1633749,\n",
       "             'gleason grade group 2': 1633826,\n",
       "             'gleason-grade_group-2': 1633826,\n",
       "             'figo grade 3': 1633887,\n",
       "             'figo-grade-3': 1633887,\n",
       "             'gleason tertiary pattern grade 4': 1633951,\n",
       "             'gleason-tertiary_pattern_grade-4': 1633951,\n",
       "             'gleason tertiary pattern grade 1': 1633991,\n",
       "             'gleason-tertiary_pattern_grade-1': 1633991,\n",
       "             'low grade tumor': 1634085,\n",
       "             'grade-l': 1634085,\n",
       "             'nottingham grade 3': 1634207,\n",
       "             'nottingham-grade-3': 1634207,\n",
       "             'grade 1 tumor': 1634371,\n",
       "             'grade-1': 1634371,\n",
       "             'gleason tertiary pattern grade 5': 1634454,\n",
       "             'gleason-tertiary_pattern_grade-5': 1634454,\n",
       "             'gleason grade group 3': 1634459,\n",
       "             'gleason-grade_group-3': 1634459,\n",
       "             'gleason secondary pattern grade 5': 1634739,\n",
       "             'gleason-secondary_pattern_grade-5': 1634739,\n",
       "             'nottingham grade 1': 1634750,\n",
       "             'nottingham-grade-1': 1634750,\n",
       "             'grade 2 tumor': 1634752,\n",
       "             'grade-2': 1634752,\n",
       "             'gleason secondary pattern grade 3': 1634808,\n",
       "             'gleason-secondary_pattern_grade-3': 1634808,\n",
       "             'gleason tertiary pattern grade 2': 1634870,\n",
       "             'gleason-tertiary_pattern_grade-2': 1634870,\n",
       "             'gleason grade group 5': 1635009,\n",
       "             'gleason-grade_group-5': 1635009,\n",
       "             'gleason grade group 4': 1635079,\n",
       "             'gleason-grade_group-4': 1635079,\n",
       "             'gleason primary pattern grade 5': 1635122,\n",
       "             'gleason-primary_pattern_grade-5': 1635122,\n",
       "             'gleason primary pattern grade 2': 1635165,\n",
       "             'gleason-primary_pattern_grade-2': 1635165,\n",
       "             'intermediate grade tumor': 1635249,\n",
       "             'grade-i': 1635249,\n",
       "             'figo grade 1': 1635317,\n",
       "             'figo-grade-1': 1635317,\n",
       "             'gleason secondary pattern grade 2': 1635385,\n",
       "             'gleason-secondary_pattern_grade-2': 1635385,\n",
       "             'gleason primary pattern grade 1': 1635448,\n",
       "             'gleason-primary_pattern_grade-1': 1635448,\n",
       "             'nottingham grade 2': 1635449,\n",
       "             'nottingham-grade-2': 1635449,\n",
       "             'gleason secondary pattern grade 1': 1635517,\n",
       "             'gleason-secondary_pattern_grade-1': 1635517,\n",
       "             'high grade tumor': 1635587,\n",
       "             'grade-h': 1635587,\n",
       "             'grade 4 tumor': 1635792,\n",
       "             'grade-4': 1635792,\n",
       "             'figo grade 2': 1635826,\n",
       "             'figo-grade-2': 1635826})"
      ]
     },
     "execution_count": 7,
     "metadata": {},
     "output_type": "execute_result"
    }
   ],
   "source": [
    "grading_lookup._lookup"
   ]
  },
  {
   "cell_type": "code",
   "execution_count": null,
   "metadata": {},
   "outputs": [],
   "source": []
  },
  {
   "cell_type": "code",
   "execution_count": null,
   "metadata": {},
   "outputs": [],
   "source": []
  },
  {
   "cell_type": "code",
   "execution_count": null,
   "metadata": {},
   "outputs": [],
   "source": []
  }
 ],
 "metadata": {
  "kernelspec": {
   "display_name": ".venv",
   "language": "python",
   "name": "python3"
  },
  "language_info": {
   "codemirror_mode": {
    "name": "ipython",
    "version": 3
   },
   "file_extension": ".py",
   "mimetype": "text/x-python",
   "name": "python",
   "nbconvert_exporter": "python",
   "pygments_lexer": "ipython3",
   "version": "3.11.0"
  }
 },
 "nbformat": 4,
 "nbformat_minor": 2
}
