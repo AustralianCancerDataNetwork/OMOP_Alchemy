{
 "cells": [
  {
   "cell_type": "code",
   "execution_count": 18,
   "metadata": {},
   "outputs": [],
   "source": [
    "\n",
    "import sqlalchemy.orm as so\n",
    "import sqlalchemy.sql.sqltypes as sss\n",
    "from omop_alchemy.model.clinical import Person, Condition_Occurrence, Measurement, Observation\n",
    "from omop_alchemy.conventions.vocab_lookups import gender_lookup, ethnicity_lookup, race_lookup\n"
   ]
  },
  {
   "cell_type": "code",
   "execution_count": 19,
   "metadata": {},
   "outputs": [
    {
     "name": "stdout",
     "output_type": "stream",
     "text": [
      "expected fail: yob\n"
     ]
    }
   ],
   "source": [
    "try:\n",
    "    Person(year_of_birth=10000)\n",
    "except:\n",
    "    print('expected fail: yob')"
   ]
  },
  {
   "cell_type": "code",
   "execution_count": 20,
   "metadata": {},
   "outputs": [
    {
     "name": "stdout",
     "output_type": "stream",
     "text": [
      "expected fail: mob\n"
     ]
    }
   ],
   "source": [
    "try:\n",
    "    Person(month_of_birth=13)\n",
    "except:\n",
    "    print('expected fail: mob')"
   ]
  },
  {
   "cell_type": "code",
   "execution_count": 21,
   "metadata": {},
   "outputs": [
    {
     "name": "stdout",
     "output_type": "stream",
     "text": [
      "expected fail: gender\n"
     ]
    }
   ],
   "source": [
    "try:\n",
    "    p = Person(gender_concept_id=100)\n",
    "except:\n",
    "    print('expected fail: gender')"
   ]
  },
  {
   "cell_type": "code",
   "execution_count": 22,
   "metadata": {},
   "outputs": [
    {
     "data": {
      "text/plain": [
       "(True, True, False)"
      ]
     },
     "execution_count": 22,
     "metadata": {},
     "output_type": "execute_result"
    }
   ],
   "source": [
    "'male' in gender_lookup, 8507 in gender_lookup, 'sldkfjsd' in gender_lookup"
   ]
  },
  {
   "cell_type": "code",
   "execution_count": 23,
   "metadata": {},
   "outputs": [
    {
     "name": "stdout",
     "output_type": "stream",
     "text": [
      "expected fail: race\n"
     ]
    }
   ],
   "source": [
    "try:\n",
    "    p = Person(race_concept_id=100)\n",
    "except:\n",
    "    print('expected fail: race')"
   ]
  },
  {
   "cell_type": "code",
   "execution_count": 8,
   "metadata": {},
   "outputs": [],
   "source": [
    "p = Person(gender_concept_id = 8532, year_of_birth=1960, month_of_birth=10, day_of_birth=3)"
   ]
  },
  {
   "cell_type": "code",
   "execution_count": 9,
   "metadata": {},
   "outputs": [
    {
     "data": {
      "text/plain": [
       "datetime.datetime(1960, 10, 3, 0, 0)"
      ]
     },
     "execution_count": 9,
     "metadata": {},
     "output_type": "execute_result"
    }
   ],
   "source": [
    "p.dob"
   ]
  },
  {
   "cell_type": "code",
   "execution_count": 10,
   "metadata": {},
   "outputs": [
    {
     "data": {
      "text/plain": [
       "{'age_total': 23140, 'age_years': 63, 'age_days': 145}"
      ]
     },
     "execution_count": 10,
     "metadata": {},
     "output_type": "execute_result"
    }
   ],
   "source": [
    "p.age"
   ]
  },
  {
   "cell_type": "code",
   "execution_count": 11,
   "metadata": {},
   "outputs": [
    {
     "data": {
      "text/plain": [
       "{}"
      ]
     },
     "execution_count": 11,
     "metadata": {},
     "output_type": "execute_result"
    }
   ],
   "source": [
    "p2 = Person()\n",
    "p2.age"
   ]
  },
  {
   "cell_type": "code",
   "execution_count": 12,
   "metadata": {},
   "outputs": [
    {
     "data": {
      "text/plain": [
       "Person: person_id = None"
      ]
     },
     "execution_count": 12,
     "metadata": {},
     "output_type": "execute_result"
    }
   ],
   "source": [
    "# if you don't assign the ID explicitly, you have to commit it to the DB before it will be incremented\n",
    "p2"
   ]
  },
  {
   "cell_type": "code",
   "execution_count": 17,
   "metadata": {},
   "outputs": [],
   "source": [
    "from omop_alchemy import oa_config\n",
    "\n",
    "with so.Session(oa_config.engine) as session:\n",
    "    session.add(p2)\n",
    "    session.commit()\n",
    "    p2.person_id # TODO: this ID should be available once committed?? what's up with that?"
   ]
  },
  {
   "cell_type": "code",
   "execution_count": 32,
   "metadata": {},
   "outputs": [],
   "source": [
    "# get all hemonc components from athena\n",
    "import omop_alchemy as oa\n",
    "\n"
   ]
  },
  {
   "cell_type": "code",
   "execution_count": 36,
   "metadata": {},
   "outputs": [
    {
     "ename": "ModuleNotFoundError",
     "evalue": "No module named 'pandas'",
     "output_type": "error",
     "traceback": [
      "\u001b[0;31m---------------------------------------------------------------------------\u001b[0m",
      "\u001b[0;31mModuleNotFoundError\u001b[0m                       Traceback (most recent call last)",
      "Cell \u001b[0;32mIn[36], line 1\u001b[0m\n\u001b[0;32m----> 1\u001b[0m \u001b[38;5;28;01mimport\u001b[39;00m \u001b[38;5;21;01mpandas\u001b[39;00m \u001b[38;5;28;01mas\u001b[39;00m \u001b[38;5;21;01mpd\u001b[39;00m\n\u001b[1;32m      2\u001b[0m df \u001b[38;5;241m=\u001b[39m pd\u001b[38;5;241m.\u001b[39mDataFrame(q\u001b[38;5;241m.\u001b[39mmap(_mapping))\n",
      "\u001b[0;31mModuleNotFoundError\u001b[0m: No module named 'pandas'"
     ]
    }
   ],
   "source": []
  },
  {
   "cell_type": "code",
   "execution_count": null,
   "metadata": {},
   "outputs": [],
   "source": []
  },
  {
   "cell_type": "code",
   "execution_count": null,
   "metadata": {},
   "outputs": [],
   "source": []
  },
  {
   "cell_type": "code",
   "execution_count": null,
   "metadata": {},
   "outputs": [],
   "source": [
    "\n",
    "def get_cols(result_obj):\n",
    "    return [c for c in dir(result_obj) if c[0] != '_' and c != 'metadata']\n",
    "    \n",
    "def get_obj_results(cols, result_obj, field_name=''):\n",
    "    results = {f'{field_name}.{c}'.strip('.'):getattr(result_obj, c) for c in cols}\n",
    "    return results\n",
    "\n",
    "def get_rec_results(result_obj, field_name=''):\n",
    "    results = {}\n",
    "    if hasattr(result_obj, '_real_fields'):\n",
    "        for f in result_obj._real_fields:\n",
    "            results.update(get_rec_results(getattr(result_obj, f), f'{field_name}.{f}'))\n",
    "    elif hasattr(result_obj, '__tablename__'):\n",
    "        results = get_obj_results(get_cols(result_obj), result_obj, field_name)\n",
    "    else:\n",
    "        results = {field_name.strip('.'): result_obj}\n",
    "    return results\n",
    "\n",
    "# TODO SQLAlchemy 1.4 intruduces a breaking change for this - returns row objects instead of query results - to update, because there are other nice things with sqlalchemy 1.4 that would make it worthwhile\n",
    "\n",
    "def list_from_query(query_results):\n",
    "    return [x[0] for x in query_results]\n",
    "\n",
    "def dataframe_from_query(query_results):\n",
    "    l = [get_rec_results(q) for q in query_results]\n",
    "    return pd.DataFrame(l)\n"
   ]
  },
  {
   "cell_type": "code",
   "execution_count": null,
   "metadata": {},
   "outputs": [],
   "source": [
    "oa.oa_config.log_path"
   ]
  },
  {
   "cell_type": "code",
   "execution_count": null,
   "metadata": {},
   "outputs": [],
   "source": []
  }
 ],
 "metadata": {
  "kernelspec": {
   "display_name": ".venv",
   "language": "python",
   "name": "python3"
  },
  "language_info": {
   "codemirror_mode": {
    "name": "ipython",
    "version": 3
   },
   "file_extension": ".py",
   "mimetype": "text/x-python",
   "name": "python",
   "nbconvert_exporter": "python",
   "pygments_lexer": "ipython3",
   "version": "3.11.0"
  }
 },
 "nbformat": 4,
 "nbformat_minor": 2
}
