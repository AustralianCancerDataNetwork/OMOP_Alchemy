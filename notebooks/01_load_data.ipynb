{
 "cells": [
  {
   "cell_type": "code",
   "execution_count": 5,
   "metadata": {},
   "outputs": [],
   "source": [
    "import omop_alchemy as oa\n",
    "from omop_alchemy.db.populate_db import to_load_vocabulary, to_load_clinical, to_load_health_system, rapid_load\n",
    "import csv\n",
    "from pathlib import Path"
   ]
  },
  {
   "cell_type": "code",
   "execution_count": 29,
   "metadata": {},
   "outputs": [],
   "source": [
    "path = Path('/Users/georginakennedy/cloudstor/CBDRH/ACDN/OMOP_Alchemy/omop_alchemy/resources/ohdsi_vocabs')\n",
    "target = to_load_vocabulary\n",
    "rapid_load_script = 'SET session_replication_role = \\'replica\\';'\n",
    "for f in path.iterdir(): \n",
    "    if f.name in target:\n",
    "\n",
    "        with open(f, 'r') as file:\n",
    "            reader = csv.DictReader(file, delimiter='\\t')\n",
    "            for row in reader:\n",
    "                header = row\n",
    "                break\n",
    "        cols = '\\',\\''.join(list(header.keys()))\n",
    "        rapid_load_script += f'\\n\\copy {f.stem.lower()} (\\'{cols}\\') from {f} delimiter E\\'\\\\t\\' CSV HEADER QUOTE \\'~\\''\n"
   ]
  },
  {
   "cell_type": "code",
   "execution_count": null,
   "metadata": {},
   "outputs": [],
   "source": []
  },
  {
   "cell_type": "code",
   "execution_count": 30,
   "metadata": {},
   "outputs": [
    {
     "name": "stdout",
     "output_type": "stream",
     "text": [
      "SET session_replication_role = 'replica';\n",
      "\\copy concept_relationship ('concept_id_1','concept_id_2','relationship_id','valid_start_date','valid_end_date','invalid_reason') from /Users/georginakennedy/cloudstor/CBDRH/ACDN/OMOP_Alchemy/omop_alchemy/resources/ohdsi_vocabs/CONCEPT_RELATIONSHIP.csv delimiter E'\\t' CSV HEADER QUOTE '~'\n",
      "\\copy vocabulary ('vocabulary_id','vocabulary_name','vocabulary_reference','vocabulary_version','vocabulary_concept_id') from /Users/georginakennedy/cloudstor/CBDRH/ACDN/OMOP_Alchemy/omop_alchemy/resources/ohdsi_vocabs/VOCABULARY.csv delimiter E'\\t' CSV HEADER QUOTE '~'\n",
      "\\copy concept_class ('concept_class_id','concept_class_name','concept_class_concept_id') from /Users/georginakennedy/cloudstor/CBDRH/ACDN/OMOP_Alchemy/omop_alchemy/resources/ohdsi_vocabs/CONCEPT_CLASS.csv delimiter E'\\t' CSV HEADER QUOTE '~'\n",
      "\\copy concept ('concept_id','concept_name','domain_id','vocabulary_id','concept_class_id','standard_concept','concept_code','valid_start_date','valid_end_date','invalid_reason') from /Users/georginakennedy/cloudstor/CBDRH/ACDN/OMOP_Alchemy/omop_alchemy/resources/ohdsi_vocabs/CONCEPT.csv delimiter E'\\t' CSV HEADER QUOTE '~'\n",
      "\\copy relationship ('relationship_id','relationship_name','is_hierarchical','defines_ancestry','reverse_relationship_id','relationship_concept_id') from /Users/georginakennedy/cloudstor/CBDRH/ACDN/OMOP_Alchemy/omop_alchemy/resources/ohdsi_vocabs/RELATIONSHIP.csv delimiter E'\\t' CSV HEADER QUOTE '~'\n",
      "\\copy domain ('domain_id','domain_name','domain_concept_id') from /Users/georginakennedy/cloudstor/CBDRH/ACDN/OMOP_Alchemy/omop_alchemy/resources/ohdsi_vocabs/DOMAIN.csv delimiter E'\\t' CSV HEADER QUOTE '~'\n",
      "\\copy concept_ancestor ('ancestor_concept_id','descendant_concept_id','min_levels_of_separation','max_levels_of_separation') from /Users/georginakennedy/cloudstor/CBDRH/ACDN/OMOP_Alchemy/omop_alchemy/resources/ohdsi_vocabs/CONCEPT_ANCESTOR.csv delimiter E'\\t' CSV HEADER QUOTE '~'\n"
     ]
    }
   ],
   "source": [
    "# you will need to stop and restart the kernel if it's your first time populating concepts in the DB as the vocab lookups will not populate correctly, but \n",
    "# that is OK because it is expected that the reference vocabs will be in place before trying to load any clinical data\n",
    "\n",
    "print(rapid_load_script)"
   ]
  },
  {
   "cell_type": "code",
   "execution_count": null,
   "metadata": {},
   "outputs": [],
   "source": [
    "# make sure to download a small athena zip file (suggested no more than 2-4 vocabs for demo purposes)\n",
    "# and unzip to omop_alchemy/resources/ohdsi_vocabs before running this script. \n",
    "\n",
    "populate_demo_db(to_load_health_system)"
   ]
  },
  {
   "cell_type": "code",
   "execution_count": null,
   "metadata": {},
   "outputs": [],
   "source": [
    "\n",
    "populate_demo_db(to_load_clinical)"
   ]
  },
  {
   "cell_type": "code",
   "execution_count": null,
   "metadata": {},
   "outputs": [],
   "source": []
  },
  {
   "cell_type": "code",
   "execution_count": null,
   "metadata": {},
   "outputs": [],
   "source": [
    "\n",
    "import sqlalchemy.orm as so\n",
    "import sqlalchemy.sql.sqltypes as sss\n",
    "from omop_alchemy.tables.clinical import Person, Condition_Occurrence, Measurement, Observation\n",
    "\n",
    "with so.Session(oa.oa_config.engine) as sess:\n",
    "    people = sess.query(Person\n",
    "                        ).options(so.joinedload(Person.conditions, \n",
    "                                                Condition_Occurrence.condition_concept)\n",
    "                        ).options(so.joinedload(Person.conditions,\n",
    "                                                Condition_Occurrence.modifiers,\n",
    "                                                Measurement.measurement_concept)\n",
    "                        ).options(so.joinedload(Person.conditions,\n",
    "                                                Condition_Occurrence.related_obs,\n",
    "                                                Observation.observation_concept)).all()"
   ]
  },
  {
   "cell_type": "code",
   "execution_count": null,
   "metadata": {},
   "outputs": [],
   "source": [
    "[[(c.condition_concept.concept_name, [m.measurement_concept for m in c.modifiers]) for c in p.conditions] for p in people]"
   ]
  },
  {
   "cell_type": "code",
   "execution_count": null,
   "metadata": {},
   "outputs": [],
   "source": [
    "[[(c.condition_concept.concept_name, [m.observation_concept for m in c.related_obs]) for c in p.conditions] for p in people]"
   ]
  },
  {
   "cell_type": "code",
   "execution_count": null,
   "metadata": {},
   "outputs": [],
   "source": [
    "from omop_alchemy.tables.clinical import Person, Condition_Occurrence, Measurement, Observation\n",
    "from omop_alchemy.tables.vocabulary import Concept, Concept_Relationship\n",
    "\n",
    "Regimen = so.aliased(Concept, name='regimen')\n",
    "Drugs = so.aliased(Concept, name='drugs')\n",
    "\n",
    "with so.Session(oa.oa_config.engine) as sess:\n",
    "\n",
    "        query = sess.query(Regimen.concept_id.label('regimen_id'),\n",
    "                          Regimen.concept_name.label('regimen_name'),\n",
    "                          Concept_Relationship.relationship_id,\n",
    "                          Drugs.concept_id.label('drug_id'),\n",
    "                          Drugs.concept_name.label('drug_name')\n",
    "                          ).join(Concept_Relationship, Concept_Relationship.concept_id_1==Regimen.concept_id\n",
    "                          ).join(Drugs, Concept_Relationship.concept_id_2==Drugs.concept_id\n",
    "                          ).filter(Regimen.vocabulary_id=='HemOnc'\n",
    "                          ).filter(Regimen.concept_class_id=='Regimen'\n",
    "                          ).filter(Drugs.vocabulary_id=='HemOnc'\n",
    "                          ).filter(Drugs.concept_class_id=='Component'\n",
    "                          ).order_by(Regimen.concept_id.desc())\n",
    "        r = query.all()"
   ]
  },
  {
   "cell_type": "code",
   "execution_count": null,
   "metadata": {},
   "outputs": [],
   "source": [
    "r"
   ]
  }
 ],
 "metadata": {
  "kernelspec": {
   "display_name": "omop-alchemy-utmE2YHc-py3.11",
   "language": "python",
   "name": "python3"
  },
  "language_info": {
   "codemirror_mode": {
    "name": "ipython",
    "version": 3
   },
   "file_extension": ".py",
   "mimetype": "text/x-python",
   "name": "python",
   "nbconvert_exporter": "python",
   "pygments_lexer": "ipython3",
   "version": "3.11.0"
  }
 },
 "nbformat": 4,
 "nbformat_minor": 2
}
